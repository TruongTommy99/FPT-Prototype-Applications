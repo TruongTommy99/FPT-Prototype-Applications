{
 "cells": [
  {
   "cell_type": "code",
   "execution_count": 2,
   "metadata": {
    "id": "dcy6nl2yNtES"
   },
   "outputs": [
    {
     "ename": "SyntaxError",
     "evalue": "invalid syntax (pywrap_tensorflow_internal.py, line 114)",
     "output_type": "error",
     "traceback": [
      "Traceback \u001b[0;36m(most recent call last)\u001b[0m:\n",
      "  File \u001b[1;32m/opt/homebrew/Caskroom/miniforge/base/lib/python3.9/site-packages/IPython/core/interactiveshell.py:3398\u001b[0m in \u001b[1;35mrun_code\u001b[0m\n    exec(code_obj, self.user_global_ns, self.user_ns)\n",
      "  Input \u001b[1;32mIn [2]\u001b[0m in \u001b[1;35m<cell line: 1>\u001b[0m\n    import tensorflow as tf\n",
      "  File \u001b[1;32m/opt/homebrew/Caskroom/miniforge/base/lib/python3.9/site-packages/tensorflow/__init__.py:24\u001b[0m in \u001b[1;35m<module>\u001b[0m\n    from tensorflow.python import pywrap_tensorflow  # pylint: disable=unused-import\n",
      "  File \u001b[1;32m/opt/homebrew/Caskroom/miniforge/base/lib/python3.9/site-packages/tensorflow/python/__init__.py:49\u001b[0m in \u001b[1;35m<module>\u001b[0m\n    from tensorflow.python import pywrap_tensorflow\n",
      "\u001b[0;36m  File \u001b[0;32m/opt/homebrew/Caskroom/miniforge/base/lib/python3.9/site-packages/tensorflow/python/pywrap_tensorflow.py:58\u001b[0;36m in \u001b[0;35m<module>\u001b[0;36m\u001b[0m\n\u001b[0;31m    from tensorflow.python.pywrap_tensorflow_internal import *\u001b[0m\n",
      "\u001b[0;36m  File \u001b[0;32m/opt/homebrew/Caskroom/miniforge/base/lib/python3.9/site-packages/tensorflow/python/pywrap_tensorflow_internal.py:114\u001b[0;36m\u001b[0m\n\u001b[0;31m    def TFE_ContextOptionsSetAsync(arg1, async):\u001b[0m\n\u001b[0m                                         ^\u001b[0m\n\u001b[0;31mSyntaxError\u001b[0m\u001b[0;31m:\u001b[0m invalid syntax\n"
     ]
    }
   ],
   "source": [
    "import tensorflow as tf\n",
    "\n",
    "\n",
    "def load_tflite_model(model_path):\n",
    "    # Load TFLite model and allocate tensors\n",
    "    tf_lite_model = tf.lite.Interpreter(model_path=model_path)\n",
    "    tf_lite_model.allocate_tensors()\n",
    "    input_detail = tf_lite_model.get_input_details()\n",
    "    output_detail = tf_lite_model.get_output_details()\n",
    "    return tf_lite_model, input_detail, output_detail\n",
    "\n",
    "\n",
    "def variance_of_laplacian(image):\n",
    "    # compute the Laplacian of the image and then return the focus\n",
    "    # measure, which is simply the variance of the Laplacian\n",
    "    return cv2.Laplacian(image, cv2.CV_64F).var()    "
   ]
  },
  {
   "cell_type": "markdown",
   "metadata": {
    "id": "vz90uthuN1RE"
   },
   "source": [
    "# New Section"
   ]
  },
  {
   "cell_type": "code",
   "execution_count": 1,
   "metadata": {
    "colab": {
     "base_uri": "https://localhost:8080/",
     "height": 684
    },
    "id": "9k2Ba2j7NtEU",
    "outputId": "88810cbf-509d-4ad8-ce8d-18b87bfece84"
   },
   "outputs": [
    {
     "ename": "ModuleNotFoundError",
     "evalue": "No module named 'cv2'",
     "output_type": "error",
     "traceback": [
      "\u001b[0;31m---------------------------------------------------------------------------\u001b[0m",
      "\u001b[0;31mModuleNotFoundError\u001b[0m                       Traceback (most recent call last)",
      "Input \u001b[0;32mIn [1]\u001b[0m, in \u001b[0;36m<cell line: 1>\u001b[0;34m()\u001b[0m\n\u001b[0;32m----> 1\u001b[0m \u001b[38;5;28;01mimport\u001b[39;00m \u001b[38;5;21;01mcv2\u001b[39;00m\n\u001b[1;32m      2\u001b[0m \u001b[38;5;28;01mimport\u001b[39;00m \u001b[38;5;21;01mtime\u001b[39;00m\n\u001b[1;32m      3\u001b[0m \u001b[38;5;28;01mimport\u001b[39;00m \u001b[38;5;21;01mnumpy\u001b[39;00m \u001b[38;5;28;01mas\u001b[39;00m \u001b[38;5;21;01mnp\u001b[39;00m\n",
      "\u001b[0;31mModuleNotFoundError\u001b[0m: No module named 'cv2'"
     ]
    }
   ],
   "source": [
    "import cv2\n",
    "import time\n",
    "import numpy as np\n",
    "import matplotlib.pyplot as plt\n",
    "\n",
    "\n",
    "#from util import save_img\n",
    "\n",
    "IMG_SIZE = 224\n",
    "image_height = 256\n",
    "image_width = 256\n",
    "\n",
    "model_path = \"hed_lite_model_quantize.tflite\"\n",
    "t_load = time.time()\n",
    "hed_tflite_model, input_details, output_details = load_tflite_model(model_path)\n",
    "print(f'load tflite model time: {time.time() - t_load}')\n",
    "print('input_details: ', input_details)\n",
    "print('output_details: ', output_details)\n",
    "\n",
    "#file_name = 'test_imgs/cccd_front.jpg'\n",
    "file_name = 'cccd_front.jpg'\n",
    "t_infer = time.time()\n",
    "\n",
    "# show image\n",
    "img = cv2.imread(filename=file_name)\n",
    "plt.figure(figsize=(10,10))\n",
    "plt.imshow(cv2.cvtColor(img, cv2.COLOR_BGR2RGB), cmap=plt.cm.gray)\n",
    "\n",
    "img = cv2.resize(img, (image_height, image_width))\n",
    "# img = img / 255.0\n",
    "\n",
    "# Preprocess the image to required size and cast\n",
    "input_shape = input_details[0]['shape']\n",
    "# input_tensor= np.array(np.expand_dims(img,0), dtype=np.float32)\n",
    "input_tensor = np.array(img).astype(np.float32)\n",
    "\n",
    "# set the tensor to point to the input data to be inferred\n",
    "input_index = hed_tflite_model.get_input_details()[0][\"index\"]\n",
    "hed_tflite_model.set_tensor(input_index, input_tensor)\n",
    "\n",
    "# Run the inference\n",
    "hed_tflite_model.invoke()\n",
    "result = hed_tflite_model.get_tensor(output_details[0]['index'])\n",
    "\n",
    "dsn_fuse_image = np.where(result > 0.0, [255], [0])\n",
    "#cv2.imwrite('results/cccd_front_result_tflite.jpg', dsn_fuse_image)\n",
    "cv2.imwrite('cccd_front_result_tflite.jpg', dsn_fuse_image)\n",
    "\n",
    "\n",
    "\n",
    "\n"
   ]
  },
  {
   "cell_type": "code",
   "execution_count": null,
   "metadata": {
    "colab": {
     "base_uri": "https://localhost:8080/",
     "height": 286
    },
    "id": "rQpYh4foNtEV",
    "outputId": "0d9e00d7-0a7b-415a-80c2-bd0019da328e"
   },
   "outputs": [
    {
     "name": "stdout",
     "output_type": "stream",
     "text": [
      "11134.353713987162\n"
     ]
    },
    {
     "data": {
      "image/png": "[encoded data removed]",
      "text/plain": [
       "<Figure size 432x288 with 1 Axes>"
      ]
     },
     "metadata": {
      "needs_background": "light"
     },
     "output_type": "display_data"
    }
   ],
   "source": [
    "image_result = cv2.imread('cccd_front_result_tflite.jpg')\n",
    "plt.imshow(image_result)\n",
    "test_result = variance_of_laplacian(image_result) \n",
    "print(test_result)\n"
   ]
  }
 ],
 "metadata": {
  "colab": {
   "collapsed_sections": [],
   "name": "load_hed_lite.ipynb",
   "provenance": []
  },
  "interpreter": {
   "hash": "b2ebda4fc2e1fa569c710e4c55f4e090b998507e0b72f6a5c7f5f2c459624936"
  },
  "kernelspec": {
   "display_name": "Python 3 (ipykernel)",
   "language": "python",
   "name": "python3"
  },
  "language_info": {
   "codemirror_mode": {
    "name": "ipython",
    "version": 3
   },
   "file_extension": ".py",
   "mimetype": "text/x-python",
   "name": "python",
   "nbconvert_exporter": "python",
   "pygments_lexer": "ipython3",
   "version": "3.9.13"
  }
 },
 "nbformat": 4,
 "nbformat_minor": 1
}
